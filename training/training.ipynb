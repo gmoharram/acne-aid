{
 "cells": [
  {
   "cell_type": "code",
   "execution_count": 1,
   "id": "5aca7a60",
   "metadata": {},
   "outputs": [],
   "source": [
    "import pytorch_lightning as pl\n",
    "from pytorch_lightning.callbacks.early_stopping import EarlyStopping\n",
    "import torch\n",
    "\n",
    "from main_code.skin_segmentation_dataset import SkinSegmentationData, label_img_to_rgb\n",
    "from main_code.skin_segmentation_nn import SkinSegmentationNN\n",
    "from main_code.skin_segmentation_evaluation import evaluate_model\n",
    "from main_code.skin_segmentation_visualization import visualizer\n",
    "\n",
    "from utils.save_load_model import save_model, load_model\n",
    "\n",
    "# for auto-reloading external modules\n",
    "# see http://stackoverflow.com/questions/1907993/autoreload-of-modules-in-ipython\n",
    "%load_ext autoreload\n",
    "%autoreload 2"
   ]
  },
  {
   "cell_type": "code",
   "execution_count": null,
   "id": "c4366d0b",
   "metadata": {},
   "outputs": [],
   "source": [
    "batch_size = 15"
   ]
  },
  {
   "cell_type": "code",
   "execution_count": null,
   "id": "af1aa63e",
   "metadata": {},
   "outputs": [],
   "source": [
    "#Training Dataset and Dataloader\n",
    "train_data = SkinSegmentationData('dataset/train.txt')\n",
    "train_dataloader = torch.utils.data.DataLoader(train_data, batch_size=batch_size, shuffle=False)"
   ]
  },
  {
   "cell_type": "code",
   "execution_count": 2,
   "id": "ea8254b9",
   "metadata": {},
   "outputs": [],
   "source": [
    "#Validation Dataset and Dataloader\n",
    "validation_data = SkinSegmentationData('dataset/validate.txt')\n",
    "validation_dataloader = torch.utils.data.DataLoader(validation_data, batch_size=15, shuffle=False)"
   ]
  },
  {
   "cell_type": "code",
   "execution_count": null,
   "id": "4e86dd5c",
   "metadata": {},
   "outputs": [],
   "source": [
    "validation_data.image_names[9]"
   ]
  },
  {
   "cell_type": "code",
   "execution_count": null,
   "id": "215edcf9",
   "metadata": {},
   "outputs": [],
   "source": [
    "#train_data.image_names[86]"
   ]
  },
  {
   "cell_type": "code",
   "execution_count": null,
   "id": "ac1093c2",
   "metadata": {},
   "outputs": [],
   "source": [
    "num_batches = len(train_dataloader)\n",
    "num_batches"
   ]
  },
  {
   "cell_type": "code",
   "execution_count": null,
   "id": "0bba82e7",
   "metadata": {},
   "outputs": [],
   "source": [
    "#Model Initialization\n",
    "hparams = {\n",
    "    'batch_size': batch_size,\n",
    "    'num_batches': num_batches,\n",
    "    'num_resnet_trainable':0,\n",
    "    'optimizer': 'Adam',\n",
    "    'learning_rate': 0.01,\n",
    "    'momentum': 0.0\n",
    "}\n",
    "model = SkinSegmentationNN(hparams = hparams)"
   ]
  },
  {
   "cell_type": "code",
   "execution_count": null,
   "id": "61a9d160",
   "metadata": {},
   "outputs": [],
   "source": [
    "inputs, targets = iter(train_dataloader).next()"
   ]
  },
  {
   "cell_type": "code",
   "execution_count": null,
   "id": "00dbbb87",
   "metadata": {},
   "outputs": [],
   "source": [
    "inputs.shape"
   ]
  },
  {
   "cell_type": "code",
   "execution_count": null,
   "id": "6d7013c9",
   "metadata": {},
   "outputs": [],
   "source": [
    "model(inputs).shape"
   ]
  },
  {
   "cell_type": "code",
   "execution_count": null,
   "id": "07f127e7",
   "metadata": {},
   "outputs": [],
   "source": [
    "#Initialize Tensorboard Logger\n",
    "logger = pl.loggers.TensorBoardLogger(save_dir='lightning_logs', name=\"logs\")"
   ]
  },
  {
   "cell_type": "code",
   "execution_count": null,
   "id": "545d4261",
   "metadata": {
    "scrolled": true
   },
   "outputs": [],
   "source": [
    "#Initialize Model Trainer \n",
    "trainer = pl.Trainer(\n",
    "    max_epochs=100,\n",
    "    logger=logger,\n",
    "    log_every_n_steps=1,\n",
    "    callbacks=[EarlyStopping(monitor='val_loss', patience = 10, mode='min')],\n",
    "    gpus=None,\n",
    ")"
   ]
  },
  {
   "cell_type": "code",
   "execution_count": null,
   "id": "dc359065",
   "metadata": {
    "scrolled": false
   },
   "outputs": [],
   "source": [
    "#Train Model\n",
    "trainer.fit(model, train_dataloaders = train_dataloader, val_dataloaders = validation_dataloader)"
   ]
  },
  {
   "cell_type": "code",
   "execution_count": null,
   "id": "8d2c2bd6",
   "metadata": {},
   "outputs": [],
   "source": [
    "save_model(model, 'model')"
   ]
  },
  {
   "cell_type": "code",
   "execution_count": null,
   "id": "0a50d7f4",
   "metadata": {},
   "outputs": [],
   "source": [
    "len(train_data)"
   ]
  },
  {
   "cell_type": "code",
   "execution_count": null,
   "id": "8ee7df1b",
   "metadata": {
    "scrolled": true
   },
   "outputs": [],
   "source": [
    "evaluate_model(model, train_dataloader) #latest best for max num train images: 99.07% for 120 images"
   ]
  },
  {
   "cell_type": "code",
   "execution_count": null,
   "id": "9b3e07b6",
   "metadata": {},
   "outputs": [],
   "source": [
    "visualizer(model, train_data, num_imgs = 5)"
   ]
  },
  {
   "cell_type": "code",
   "execution_count": 6,
   "id": "a5c69fd9",
   "metadata": {},
   "outputs": [
    {
     "data": {
      "text/plain": [
       "15"
      ]
     },
     "execution_count": 6,
     "metadata": {},
     "output_type": "execute_result"
    }
   ],
   "source": [
    "len(validation_data), len(train_data)"
   ]
  },
  {
   "cell_type": "code",
   "execution_count": null,
   "id": "12fa96a4",
   "metadata": {
    "scrolled": true
   },
   "outputs": [],
   "source": [
    "evaluate_model(model, validation_dataloader) #latest best for max num train images: 64.76% for 16 val images, 120 train images"
   ]
  },
  {
   "cell_type": "code",
   "execution_count": null,
   "id": "d3838451",
   "metadata": {},
   "outputs": [],
   "source": [
    "visualizer(model, validation_data, num_imgs = 10)"
   ]
  },
  {
   "cell_type": "code",
   "execution_count": 3,
   "id": "b8231495",
   "metadata": {},
   "outputs": [],
   "source": [
    "model_loaded = load_model(SkinSegmentationNN, file_name='model')"
   ]
  },
  {
   "cell_type": "code",
   "execution_count": 4,
   "id": "0fb37904",
   "metadata": {},
   "outputs": [],
   "source": [
    "#Validation Dataset and Dataloader\n",
    "validation_data = SkinSegmentationData('dataset/validate.txt')\n",
    "validation_dataloader = torch.utils.data.DataLoader(validation_data, batch_size=15, shuffle=False)\n",
    "len(validation_data)"
   ]
  },
  {
   "cell_type": "code",
   "execution_count": 5,
   "id": "fb06ee26",
   "metadata": {},
   "outputs": [
    {
     "data": {
      "text/plain": [
       "{'accuracy': 0.6882957637652434,\n",
       " 'non-skin num instances': 18936,\n",
       " 'non-skin recall': 0.8259400084495142,\n",
       " 'non-skin precision': 0.7656533020022519,\n",
       " 'non-skin f1 score': 0.7946548789472346,\n",
       " 'skin num instances': 28074,\n",
       " 'skin recall': 0.5830305620859157,\n",
       " 'skin precision': 0.7341885709159415,\n",
       " 'skin f1 score': 0.6499364675984752,\n",
       " 'acne num instances': 12500,\n",
       " 'acne recall': 0.71752,\n",
       " 'acne precision': 0.5334562540890977,\n",
       " 'acne f1 score': 0.6119469177498037}"
      ]
     },
     "execution_count": 5,
     "metadata": {},
     "output_type": "execute_result"
    }
   ],
   "source": [
    "evaluate_model(model_loaded, validation_dataloader) #latest best: 68.8% for 15 val images"
   ]
  }
 ],
 "metadata": {
  "kernelspec": {
   "display_name": "Python 3 (ipykernel)",
   "language": "python",
   "name": "python3"
  },
  "language_info": {
   "codemirror_mode": {
    "name": "ipython",
    "version": 3
   },
   "file_extension": ".py",
   "mimetype": "text/x-python",
   "name": "python",
   "nbconvert_exporter": "python",
   "pygments_lexer": "ipython3",
   "version": "3.9.7"
  }
 },
 "nbformat": 4,
 "nbformat_minor": 5
}
